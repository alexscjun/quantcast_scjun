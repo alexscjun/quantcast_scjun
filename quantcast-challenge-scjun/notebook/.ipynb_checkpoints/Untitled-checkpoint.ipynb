{
 "cells": [
  {
   "cell_type": "code",
   "execution_count": 1,
   "id": "cc8f725b",
   "metadata": {},
   "outputs": [],
   "source": [
    "#import webdriver modules\n",
    "from selenium import webdriver\n",
    "from selenium.webdriver.common.keys import Keys\n",
    "import pandas as pd"
   ]
  },
  {
   "cell_type": "code",
   "execution_count": 12,
   "id": "127f19c0",
   "metadata": {},
   "outputs": [
    {
     "name": "stderr",
     "output_type": "stream",
     "text": [
      "C:\\Users\\storm\\AppData\\Local\\Temp\\ipykernel_17852\\3808052264.py:5: DeprecationWarning: use options instead of chrome_options\n",
      "  chrome = webdriver.Chrome(chrome_options=chrome_options)\n"
     ]
    }
   ],
   "source": [
    "#start driver\n",
    "\n",
    "chrome_options = webdriver.ChromeOptions()\n",
    "chrome_options.add_argument('--no-sandbox')\n",
    "chrome = webdriver.Chrome(chrome_options=chrome_options)"
   ]
  },
  {
   "cell_type": "code",
   "execution_count": 13,
   "id": "92898b80",
   "metadata": {},
   "outputs": [],
   "source": [
    "chrome.get(\"https://econet.climate.ncsu.edu/stations/auro/\")\n",
    "#driver.get(\"https://google.co.in\")"
   ]
  },
  {
   "cell_type": "code",
   "execution_count": 19,
   "id": "416f389f",
   "metadata": {},
   "outputs": [
    {
     "ename": "AttributeError",
     "evalue": "'WebDriver' object has no attribute 'find_element_by_label'",
     "output_type": "error",
     "traceback": [
      "\u001b[1;31m---------------------------------------------------------------------------\u001b[0m",
      "\u001b[1;31mAttributeError\u001b[0m                            Traceback (most recent call last)",
      "Input \u001b[1;32mIn [19]\u001b[0m, in \u001b[0;36m<cell line: 8>\u001b[1;34m()\u001b[0m\n\u001b[0;32m      1\u001b[0m \u001b[38;5;66;03m#//*[@id=\"n-IaXMg7\"]/div/div/p/a\u001b[39;00m\n\u001b[0;32m      2\u001b[0m \u001b[38;5;66;03m#//*[@id=\"n-RnjSsq\"]/div/div/p/a\u001b[39;00m\n\u001b[0;32m      3\u001b[0m \n\u001b[0;32m      4\u001b[0m \u001b[38;5;66;03m#get element\u001b[39;00m\n\u001b[0;32m      5\u001b[0m \u001b[38;5;66;03m#element = chrome.find_element_by_partial_link_text(\"econet.climate.ncsu.edu\")\u001b[39;00m\n\u001b[0;32m      6\u001b[0m \u001b[38;5;66;03m#print(element)\u001b[39;00m\n\u001b[1;32m----> 8\u001b[0m element \u001b[38;5;241m=\u001b[39m \u001b[43mchrome\u001b[49m\u001b[38;5;241;43m.\u001b[39;49m\u001b[43mfind_element_by_label\u001b[49m(\u001b[38;5;124m'\u001b[39m\u001b[38;5;124mAURO - Aurora, NC. Click to expand.\u001b[39m\u001b[38;5;124m'\u001b[39m)\n\u001b[0;32m      9\u001b[0m \u001b[38;5;28mprint\u001b[39m(element)\n",
      "\u001b[1;31mAttributeError\u001b[0m: 'WebDriver' object has no attribute 'find_element_by_label'"
     ]
    }
   ],
   "source": [
    "\n"
   ]
  },
  {
   "cell_type": "code",
   "execution_count": null,
   "id": "478af16f",
   "metadata": {},
   "outputs": [],
   "source": []
  }
 ],
 "metadata": {
  "kernelspec": {
   "display_name": "Python 3 (ipykernel)",
   "language": "python",
   "name": "python3"
  },
  "language_info": {
   "codemirror_mode": {
    "name": "ipython",
    "version": 3
   },
   "file_extension": ".py",
   "mimetype": "text/x-python",
   "name": "python",
   "nbconvert_exporter": "python",
   "pygments_lexer": "ipython3",
   "version": "3.8.13"
  }
 },
 "nbformat": 4,
 "nbformat_minor": 5
}
