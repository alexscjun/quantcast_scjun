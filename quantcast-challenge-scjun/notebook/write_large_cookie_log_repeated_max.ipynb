{
 "cells": [
  {
   "cell_type": "code",
   "execution_count": 14,
   "id": "75b778e3",
   "metadata": {},
   "outputs": [],
   "source": [
    "import csv\n",
    "f = open('./large_cookie_log_repeated_max.csv', 'w', encoding='UTF8', newline='')\n",
    "writer = csv.writer(f)"
   ]
  },
  {
   "cell_type": "code",
   "execution_count": 15,
   "id": "4d27677e",
   "metadata": {},
   "outputs": [],
   "source": [
    "import random\n",
    "\n",
    "list = []\n",
    "\n",
    "for x in range(10):\n",
    "    add = \"id\" + str(x)\n",
    "\n",
    "    addlist = [add, '2018-12-09T14:19:00+00:00']\n",
    "    list.append(addlist)\n",
    "        \n",
    "for x in range(len(list)):\n",
    "    i = random.randint(0, len(list) - 1)\n",
    "    \n",
    "    temp = list[x]\n",
    "    list[x] = list[i]\n",
    "    list[i] = temp"
   ]
  },
  {
   "cell_type": "code",
   "execution_count": 16,
   "id": "5c6e3aaa",
   "metadata": {},
   "outputs": [
    {
     "data": {
      "text/plain": [
       "18"
      ]
     },
     "execution_count": 16,
     "metadata": {},
     "output_type": "execute_result"
    }
   ],
   "source": [
    "writer.writerow(['cookie', 'timestamp'])"
   ]
  },
  {
   "cell_type": "code",
   "execution_count": 17,
   "id": "76d89731",
   "metadata": {},
   "outputs": [],
   "source": [
    "writer.writerows(list)"
   ]
  },
  {
   "cell_type": "code",
   "execution_count": 18,
   "id": "9e4e252c",
   "metadata": {},
   "outputs": [],
   "source": [
    "f.flush()"
   ]
  },
  {
   "cell_type": "code",
   "execution_count": 19,
   "id": "8b049c75",
   "metadata": {},
   "outputs": [],
   "source": [
    "f.close()"
   ]
  },
  {
   "cell_type": "code",
   "execution_count": null,
   "id": "3db2fa6d",
   "metadata": {},
   "outputs": [],
   "source": []
  }
 ],
 "metadata": {
  "kernelspec": {
   "display_name": "Python 3 (ipykernel)",
   "language": "python",
   "name": "python3"
  },
  "language_info": {
   "codemirror_mode": {
    "name": "ipython",
    "version": 3
   },
   "file_extension": ".py",
   "mimetype": "text/x-python",
   "name": "python",
   "nbconvert_exporter": "python",
   "pygments_lexer": "ipython3",
   "version": "3.9.7"
  }
 },
 "nbformat": 4,
 "nbformat_minor": 5
}
