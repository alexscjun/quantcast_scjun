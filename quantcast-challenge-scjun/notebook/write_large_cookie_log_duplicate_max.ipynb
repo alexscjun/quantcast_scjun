{
 "cells": [
  {
   "cell_type": "code",
   "execution_count": 8,
   "id": "6328b4a3",
   "metadata": {},
   "outputs": [],
   "source": [
    "import csv\n",
    "f = open('./large_cookie_log_duplicate_max.csv', 'w', encoding='UTF8', newline='')\n",
    "writer = csv.writer(f)"
   ]
  },
  {
   "cell_type": "code",
   "execution_count": 9,
   "id": "f43afd01",
   "metadata": {},
   "outputs": [],
   "source": [
    "import random\n",
    "\n",
    "list = []\n",
    "\n",
    "for x in range(26):\n",
    "    for y in range(x):\n",
    "        add = \"id\" + str(x)\n",
    "        \n",
    "        addlist = [add, '2018-12-09T14:19:00+00:00']\n",
    "        list.append(addlist)\n",
    "\n",
    "for x in range(25):\n",
    "    add = \"id_25_duplicate\"\n",
    "    addlist = [add, '2018-12-09T14:19:00+00:00']\n",
    "    list.append(addlist)\n",
    "        \n",
    "for x in range(len(list)):\n",
    "    i = random.randint(0, len(list) - 1)\n",
    "    \n",
    "    temp = list[x]\n",
    "    list[x] = list[i]\n",
    "    list[i] = temp"
   ]
  },
  {
   "cell_type": "code",
   "execution_count": 10,
   "id": "634e6cdf",
   "metadata": {},
   "outputs": [
    {
     "data": {
      "text/plain": [
       "18"
      ]
     },
     "execution_count": 10,
     "metadata": {},
     "output_type": "execute_result"
    }
   ],
   "source": [
    "writer.writerow(['cookie', 'timestamp'])"
   ]
  },
  {
   "cell_type": "code",
   "execution_count": 11,
   "id": "d9499f1a",
   "metadata": {},
   "outputs": [],
   "source": [
    "writer.writerows(list)"
   ]
  },
  {
   "cell_type": "code",
   "execution_count": 12,
   "id": "a9c7c27c",
   "metadata": {},
   "outputs": [],
   "source": [
    "f.flush()"
   ]
  },
  {
   "cell_type": "code",
   "execution_count": 13,
   "id": "6471630d",
   "metadata": {},
   "outputs": [],
   "source": [
    "f.close()"
   ]
  },
  {
   "cell_type": "code",
   "execution_count": null,
   "id": "50b4a006",
   "metadata": {},
   "outputs": [],
   "source": []
  }
 ],
 "metadata": {
  "kernelspec": {
   "display_name": "Python 3 (ipykernel)",
   "language": "python",
   "name": "python3"
  },
  "language_info": {
   "codemirror_mode": {
    "name": "ipython",
    "version": 3
   },
   "file_extension": ".py",
   "mimetype": "text/x-python",
   "name": "python",
   "nbconvert_exporter": "python",
   "pygments_lexer": "ipython3",
   "version": "3.9.7"
  }
 },
 "nbformat": 4,
 "nbformat_minor": 5
}
